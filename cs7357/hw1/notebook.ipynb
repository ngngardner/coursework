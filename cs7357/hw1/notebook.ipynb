{
 "cells": [
  {
   "cell_type": "code",
   "execution_count": 1,
   "id": "aca0f509-c3cc-4c7d-a04c-9e666c183dbd",
   "metadata": {},
   "outputs": [],
   "source": [
    "import numpy as np\n",
    "import pandas as pd\n",
    "from sklearn.model_selection import train_test_split"
   ]
  },
  {
   "cell_type": "code",
   "execution_count": 2,
   "id": "eaca1adb-7714-4904-ab6a-3f19b472f822",
   "metadata": {},
   "outputs": [],
   "source": [
    "datafile = \"cleaned_data/weather_data.csv\""
   ]
  },
  {
   "cell_type": "code",
   "execution_count": null,
   "id": "3c86444a-397f-4919-9ae1-881795664005",
   "metadata": {},
   "outputs": [],
   "source": [
    "def get_data(\n",
    "    filename: str = datafile\n",
    ") -> tuple[np.ndarray, np.ndarray, np.ndarray, np.ndarray]:\n",
    "    df = pd.read_csv(filename)\n",
    "    X_ = df[[\"Humidity\", \"Visibility (km)\"]]\n",
    "    Y_ = df[[\"Temperature (C)\"]]\n",
    "\n",
    "    # Spliting data into train and test sets\n",
    "    X_train, X_test, y_train, y_test = train_test_split(\n",
    "        X_, Y_, test_size=0.25, random_state=42)\n",
    "\n",
    "    return X_train, X_test, y_train, y_test\n",
    "\n"
   ]
  },
  {
   "cell_type": "code",
   "execution_count": null,
   "id": "bcf8bcc2-b8a8-4dda-ac47-cf9e699b7d94",
   "metadata": {},
   "outputs": [],
   "source": [
    "X_train, X_test, y_train, y_test = get_data(datafile)\n",
    "print(X_train.shape, X_test.shape, y_train.shape, y_test.shape)"
   ]
  },
  {
   "cell_type": "code",
   "execution_count": null,
   "id": "1ba96812-e5ab-4355-a434-bc055b67318c",
   "metadata": {},
   "outputs": [],
   "source": [
    "def data_iter(batch_size, X, y):\n",
    "    num_examples = len(X)\n",
    "    indices = list(range(num_examples))\n",
    "    # The examples are read at random, in no particular order\n",
    "    random.shuffle(indices)\n",
    "    for i in range(0, num_examples, batch_size):\n",
    "        #write your code here to retrun batch wise X,y\n"
   ]
  },
  {
   "cell_type": "code",
   "execution_count": null,
   "id": "bc0f6471-6b36-469b-96f6-fc31800aa284",
   "metadata": {},
   "outputs": [],
   "source": [
    "batch_size = #define your batch size\n",
    "\n",
    "for X, y in data_iter(batch_size, features, labels):\n",
    "    print(X, '\\n', y)\n",
    "    break"
   ]
  },
  {
   "cell_type": "markdown",
   "id": "55ef3630-01cf-464f-b56a-92e713d77f9f",
   "metadata": {},
   "source": [
    "## create and initialize model parameter"
   ]
  },
  {
   "cell_type": "code",
   "execution_count": null,
   "id": "e0af4781-33ef-4028-96ae-292b6d832557",
   "metadata": {},
   "outputs": [],
   "source": [
    "\n",
    "def create_model_parameter(mu, sigma, row, column):\n",
    "    w = np.random.normal(mu, sigma, size=(row, column))\n",
    "    b = \n",
    "    return w,b"
   ]
  },
  {
   "cell_type": "code",
   "execution_count": null,
   "id": "5eedb7cb-dd14-4846-81f6-4c8da0172642",
   "metadata": {},
   "outputs": [],
   "source": [
    "def model(X, w, b):  \n",
    "    \"\"\"The linear regression model.\"\"\"\n",
    "    # write your code here\n",
    "    return "
   ]
  },
  {
   "cell_type": "code",
   "execution_count": null,
   "id": "02c0e45c-282b-47d4-843d-ad17240c48db",
   "metadata": {},
   "outputs": [],
   "source": [
    "def squared_loss(y_hat, y):  #@save\n",
    "    \"\"\"Squared loss.\"\"\"\n",
    "    #write your code here for loss function\n",
    "    return \n"
   ]
  },
  {
   "cell_type": "code",
   "execution_count": null,
   "id": "1b62bab5-e732-4e2f-b0e8-522aa8c8dd56",
   "metadata": {},
   "outputs": [],
   "source": [
    "def gradient(loss,params):\n",
    "    #compute gradeint of loss function with respect to params\n",
    "    \n",
    "    return \n",
    "    "
   ]
  },
  {
   "cell_type": "code",
   "execution_count": null,
   "id": "831e6f57-6816-4569-83ce-f51c3238e4b2",
   "metadata": {},
   "outputs": [],
   "source": [
    "def sgd(params, grads, lr, batch_size):  #@save\n",
    "    \"\"\"Minibatch stochastic gradient descent.\"\"\"\n",
    "    #write your code for updating your parameter using gradient descent algorithm\n",
    "    #Example: theta = theta - (lr * grad)/batch_size"
   ]
  },
  {
   "cell_type": "code",
   "execution_count": null,
   "id": "e3ad6f1d-4600-4683-acad-43f344bc9b71",
   "metadata": {},
   "outputs": [],
   "source": [
    "def train(lr,num_epochs,X,y):\n",
    "    # write your own code and modify the below code as needed\n",
    "    \n",
    "    for epoch in range(num_epochs):\n",
    "        for X, y in data_iter(batch_size, X, y):\n",
    "           \n",
    "        train_l = loss(net(features, w, b), labels)\n",
    "        print(f'epoch {epoch + 1}, loss {float(tf.reduce_mean(train_l)):f}')\n",
    "    \n",
    "    return epoch, loss"
   ]
  },
  {
   "cell_type": "code",
   "execution_count": null,
   "id": "e641a34f-4da9-4e91-8f9c-6099898e927b",
   "metadata": {},
   "outputs": [],
   "source": [
    "def draw_loss(num_epochs,loss):\n",
    "    plt.plot(num_epochs,loss) \n",
    "    plot.show()"
   ]
  },
  {
   "cell_type": "code",
   "execution_count": null,
   "id": "cb150004-1e6f-482f-b54a-5f60988a2b8c",
   "metadata": {},
   "outputs": [],
   "source": [
    "def test(X):\n",
    "    # write your own code \n",
    "    #predict temperature for the given humidity and visibility"
   ]
  }
 ],
 "metadata": {
  "kernelspec": {
   "display_name": "Python 3 (ipykernel)",
   "language": "python",
   "name": "python3"
  },
  "language_info": {
   "codemirror_mode": {
    "name": "ipython",
    "version": 3
   },
   "file_extension": ".py",
   "mimetype": "text/x-python",
   "name": "python",
   "nbconvert_exporter": "python",
   "pygments_lexer": "ipython3",
   "version": "3.9.6"
  }
 },
 "nbformat": 4,
 "nbformat_minor": 5
}

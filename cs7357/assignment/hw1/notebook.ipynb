{
 "cells": [
  {
   "cell_type": "markdown",
   "id": "12136af4",
   "metadata": {},
   "source": [
    "## Imports"
   ]
  },
  {
   "cell_type": "code",
   "execution_count": 37,
   "id": "aca0f509-c3cc-4c7d-a04c-9e666c183dbd",
   "metadata": {},
   "outputs": [],
   "source": [
    "import random\n",
    "from pathlib import Path\n",
    "\n",
    "import numpy as np\n",
    "import pandas as pd\n",
    "from matplotlib import pyplot as plt\n",
    "from sklearn.model_selection import train_test_split"
   ]
  },
  {
   "cell_type": "markdown",
   "id": "a9de12fc",
   "metadata": {},
   "source": [
    "## Parameters"
   ]
  },
  {
   "cell_type": "code",
   "execution_count": 38,
   "id": "eaca1adb-7714-4904-ab6a-3f19b472f822",
   "metadata": {},
   "outputs": [],
   "source": [
    "INPUT_FILE = Path.cwd() / 'weather_data.csv'\n",
    "BATCH_SIZE = 64\n",
    "LEARNING_RATE = 0.01\n",
    "NUM_EPOCHS = 30"
   ]
  },
  {
   "cell_type": "code",
   "execution_count": 39,
   "id": "8e9fa285",
   "metadata": {},
   "outputs": [
    {
     "name": "stdout",
     "output_type": "stream",
     "text": [
      "   Humidity  Visibility (km)  Temperature (C)\n",
      "0      0.89            0.983         0.523486\n",
      "1      0.86            0.983         0.521084\n",
      "2      0.89            0.929         0.553144\n",
      "3      0.83            0.983         0.501947\n",
      "4      0.83            0.983         0.517356\n"
     ]
    }
   ],
   "source": [
    "print(pd.read_csv(INPUT_FILE).head())"
   ]
  },
  {
   "cell_type": "code",
   "execution_count": 40,
   "id": "3c86444a-397f-4919-9ae1-881795664005",
   "metadata": {},
   "outputs": [],
   "source": [
    "def get_data(\n",
    "    filename: str = INPUT_FILE,\n",
    "    test_size: float = 0.25,\n",
    "    random_state: int = 42,\n",
    ") -> tuple[np.ndarray, np.ndarray, np.ndarray, np.ndarray]:\n",
    "    \"\"\"\n",
    "    Get data from the input file, split it into train and test sets.\n",
    "\n",
    "    Args:\n",
    "        filename: Path to the input file.\n",
    "        test_size: Fraction of the data to use for testing.\n",
    "        random_state: Random seed for shuffling the data.\n",
    "\n",
    "    Returns:\n",
    "        tuple: (x_train, x_test, y_train, y_test)\n",
    "    \"\"\"\n",
    "    df = pd.read_csv(filename)\n",
    "\n",
    "    # split data\n",
    "    x_train, x_test, y_train, y_test = train_test_split(\n",
    "        df[['Humidity', 'Visibility (km)']],\n",
    "        df[['Temperature (C)']],\n",
    "        test_size=test_size,\n",
    "        random_state=random_state,\n",
    "    )\n",
    "\n",
    "    return (\n",
    "        np.array(x_train),\n",
    "        np.array(x_test),\n",
    "        np.array(y_train),\n",
    "        np.array(y_test),\n",
    "    )"
   ]
  },
  {
   "cell_type": "code",
   "execution_count": 41,
   "id": "1ba96812-e5ab-4355-a434-bc055b67318c",
   "metadata": {},
   "outputs": [],
   "source": [
    "def data_iter(\n",
    "    x_samples: np.ndarray,\n",
    "    y_samples: np.ndarray,\n",
    "    batch_size: int = BATCH_SIZE,\n",
    "):\n",
    "    \"\"\"\n",
    "    Iterate over the data and corresponding output in batches.\n",
    "\n",
    "    Args:\n",
    "        x_samples: Data to iterate over.\n",
    "        y_samples: Labels to iterate over.\n",
    "        batch_size: Size of the batches.\n",
    "\n",
    "    Yields:\n",
    "        tuple: (batch_data, batch_labels)\n",
    "    \"\"\"\n",
    "    num_examples = len(x_samples)\n",
    "    indices = list(range(num_examples))\n",
    "\n",
    "    # examples are read at random, in no particular order\n",
    "    random.shuffle(indices)\n",
    "    for idx in range(0, num_examples, batch_size):\n",
    "        batch_x = x_samples[indices[idx:idx + batch_size]]\n",
    "        batch_y = y_samples[indices[idx:idx + batch_size]]\n",
    "        yield batch_x, batch_y"
   ]
  },
  {
   "cell_type": "code",
   "execution_count": 42,
   "id": "bc0f6471-6b36-469b-96f6-fc31800aa284",
   "metadata": {},
   "outputs": [],
   "source": [
    "def create_model_parameter(\n",
    "    mu: float,\n",
    "    sigma: float,\n",
    "    rows: int,\n",
    "    columns: int,\n",
    ") -> tuple[np.ndarray, np.ndarray]:\n",
    "    \"\"\"\n",
    "    Create model parameters from the input data.\n",
    "\n",
    "    Args:\n",
    "        mu: Mean of the data.\n",
    "        sigma: Standard deviation of the data.\n",
    "        rows: Number of rows in the data.\n",
    "        columns: Number of columns in the data.\n",
    "\n",
    "    Returns:\n",
    "        tuple: Normal weights and biases.\n",
    "    \"\"\"\n",
    "    weights = np.random.normal(mu, sigma, size=(rows, columns))\n",
    "    biases = np.zeros(1)\n",
    "    return weights, biases"
   ]
  },
  {
   "cell_type": "code",
   "execution_count": 43,
   "id": "e0af4781-33ef-4028-96ae-292b6d832557",
   "metadata": {},
   "outputs": [],
   "source": [
    "def model(\n",
    "    input_data: np.ndarray,\n",
    "    weights: np.ndarray,\n",
    "    biases: np.ndarray,\n",
    ") -> np.ndarray:\n",
    "    \"\"\"\n",
    "    Model function.\n",
    "\n",
    "    Args:\n",
    "        input_data: Input data.\n",
    "        weights: Weights.\n",
    "        biases: Biases.\n",
    "\n",
    "    Returns:\n",
    "        np.ndarray: Output of the model.\n",
    "    \"\"\"\n",
    "    return np.dot(input_data, weights) + biases.T"
   ]
  },
  {
   "cell_type": "code",
   "execution_count": 44,
   "id": "02c0e45c-282b-47d4-843d-ad17240c48db",
   "metadata": {},
   "outputs": [],
   "source": [
    "def squared_loss(y_pred: np.ndarray, y_true: np.ndarray) -> float:\n",
    "    \"\"\"Calculate squared loss.\n",
    "\n",
    "    Args:\n",
    "        y_pred: Predicted output.\n",
    "        y_true: True output.\n",
    "\n",
    "    Returns:\n",
    "        float: Squared loss.\n",
    "    \"\"\"\n",
    "    return np.mean((y_pred - y_true) ** 2) / 2"
   ]
  },
  {
   "cell_type": "code",
   "execution_count": 45,
   "id": "1b62bab5-e732-4e2f-b0e8-522aa8c8dd56",
   "metadata": {},
   "outputs": [],
   "source": [
    "def gradient(\n",
    "    y_pred: np.ndarray,\n",
    "    y_actual: np.ndarray,\n",
    "    input_data: np.ndarray,\n",
    ") -> tuple[np.ndarray, np.ndarray]:\n",
    "    \"\"\"\n",
    "    Calculate the gradient of the loss function.\n",
    "\n",
    "    Args:\n",
    "        y_pred: Predicted output.\n",
    "        y_actual: True output.\n",
    "        input_data: Input data.\n",
    "\n",
    "    Returns:\n",
    "        tuple: Gradients.\n",
    "    \"\"\"\n",
    "    weights_grad = np.sum((y_pred - y_actual) * input_data)\n",
    "    biases_grad = np.sum((y_pred - y_actual))\n",
    "    return weights_grad, biases_grad"
   ]
  },
  {
   "cell_type": "code",
   "execution_count": 46,
   "id": "831e6f57-6816-4569-83ce-f51c3238e4b2",
   "metadata": {},
   "outputs": [],
   "source": [
    "def sgd(\n",
    "    model_params: tuple[np.ndarray, np.ndarray],\n",
    "    grads: tuple[np.ndarray, np.ndarray],\n",
    "    learning_rate: float = LEARNING_RATE,\n",
    "    batch_size: int = BATCH_SIZE,\n",
    ") -> tuple[np.ndarray, np.ndarray]:\n",
    "    \"\"\"\n",
    "    Perform stochastic gradient descent.\n",
    "\n",
    "    Args:\n",
    "        model_params: Model parameters.\n",
    "        grads: Gradients.\n",
    "        learning_rate: Learning_rate.\n",
    "        batch_size: Batch size.\n",
    "\n",
    "    Returns:\n",
    "        tuple: Updated model parameters.\n",
    "    \"\"\"\n",
    "    weights, biases = model_params\n",
    "    weights_grad, biases_grad = grads\n",
    "\n",
    "    weights_update = learning_rate * (weights_grad / batch_size)\n",
    "    biases_update = learning_rate * (biases_grad / batch_size)\n",
    "\n",
    "    weights -= weights_update\n",
    "    biases -= biases_update\n",
    "    return weights, biases"
   ]
  },
  {
   "cell_type": "code",
   "execution_count": 47,
   "id": "e3ad6f1d-4600-4683-acad-43f344bc9b71",
   "metadata": {},
   "outputs": [],
   "source": [
    "def train(\n",
    "    x_train: np.ndarray,\n",
    "    y_train: np.ndarray,\n",
    "    num_epochs: int = NUM_EPOCHS,\n",
    "    learning_rate: float = LEARNING_RATE,\n",
    "    batch_size: int = BATCH_SIZE,\n",
    ") -> tuple[np.ndarray, np.ndarray, list]:\n",
    "    \"\"\"\n",
    "    Train the model.\n",
    "\n",
    "    Args:\n",
    "        x_train: Training data.\n",
    "        y_train: Training labels.\n",
    "        num_epochs: Number of epochs.\n",
    "        learning_rate: Learning rate.\n",
    "        batch_size: Batch size.\n",
    "\n",
    "    Returns:\n",
    "        tuple: Model parameters.\n",
    "    \"\"\"\n",
    "    weights, biases = create_model_parameter(\n",
    "        mu=0,\n",
    "        sigma=0.1,\n",
    "        rows=x_train.shape[1],\n",
    "        columns=1,\n",
    "    )\n",
    "\n",
    "    losses = []\n",
    "    for epoch in range(num_epochs):\n",
    "        for batch_x, batch_y in data_iter(x_train, y_train, batch_size):\n",
    "            # calculate loss and gradients\n",
    "            y_pred = model(batch_x, weights, biases)\n",
    "            grads = gradient(y_pred, batch_y, batch_x)\n",
    "\n",
    "            # update model parameters\n",
    "            weights, biases = sgd(\n",
    "                model_params=(weights, biases),\n",
    "                grads=grads,\n",
    "                learning_rate=learning_rate,\n",
    "                batch_size=batch_size,\n",
    "            )\n",
    "        train_l = squared_loss(model(x_train, weights, biases), y_train)\n",
    "        losses.append(train_l)\n",
    "        print('Epoch {0}: Loss = {1}'.format(epoch + 1, train_l))\n",
    "\n",
    "    return weights, biases, losses"
   ]
  },
  {
   "cell_type": "code",
   "execution_count": 48,
   "id": "6ceb90dd",
   "metadata": {},
   "outputs": [],
   "source": [
    "def test(\n",
    "    x_test: np.ndarray,\n",
    "    y_test: np.ndarray,\n",
    "    model_params: tuple[np.ndarray, np.ndarray],\n",
    ") -> float:\n",
    "    \"\"\"\n",
    "    Test the model.\n",
    "\n",
    "    Args:\n",
    "        x_test: Test data.\n",
    "        y_test: Test labels.\n",
    "        model_params: Model parameters.\n",
    "\n",
    "    Returns:\n",
    "        float: Test loss.\n",
    "    \"\"\"\n",
    "    weights, biases = model_params\n",
    "    return squared_loss(model(x_test, weights, biases), y_test)"
   ]
  },
  {
   "cell_type": "code",
   "execution_count": 49,
   "id": "e641a34f-4da9-4e91-8f9c-6099898e927b",
   "metadata": {},
   "outputs": [
    {
     "name": "stdout",
     "output_type": "stream",
     "text": [
      "(72321, 2) (24108, 2) (72321, 1) (24108, 1)\n"
     ]
    }
   ],
   "source": [
    "X_train, X_test, y_train, y_test = get_data()\n",
    "print(X_train.shape, X_test.shape, y_train.shape, y_test.shape)"
   ]
  },
  {
   "cell_type": "code",
   "execution_count": 50,
   "id": "cb150004-1e6f-482f-b54a-5f60988a2b8c",
   "metadata": {},
   "outputs": [
    {
     "name": "stdout",
     "output_type": "stream",
     "text": [
      "Epoch 1: Loss = 0.013474579109272643\n",
      "Epoch 2: Loss = 0.012435321703912112\n",
      "Epoch 3: Loss = 0.01182269712928141\n",
      "Epoch 4: Loss = 0.011458635237382114\n",
      "Epoch 5: Loss = 0.011242993017007725\n",
      "Epoch 6: Loss = 0.011113880075645887\n",
      "Epoch 7: Loss = 0.011042760733492031\n",
      "Epoch 8: Loss = 0.010993838130747164\n",
      "Epoch 9: Loss = 0.010968115169768063\n",
      "Epoch 10: Loss = 0.010955146335638245\n",
      "Epoch 11: Loss = 0.010944138897326934\n",
      "Epoch 12: Loss = 0.010937762378639854\n",
      "Epoch 13: Loss = 0.010934500163469363\n",
      "Epoch 14: Loss = 0.010932573649382408\n",
      "Epoch 15: Loss = 0.010931617219469333\n",
      "Epoch 16: Loss = 0.01093077494584062\n",
      "Epoch 17: Loss = 0.01093171339184456\n",
      "Epoch 18: Loss = 0.010930668424015152\n",
      "Epoch 19: Loss = 0.010930311953360177\n",
      "Epoch 20: Loss = 0.010931682273407912\n",
      "Epoch 21: Loss = 0.010932494137910313\n",
      "Epoch 22: Loss = 0.010931471183061665\n",
      "Epoch 23: Loss = 0.010935500096246432\n",
      "Epoch 24: Loss = 0.010933058688459918\n",
      "Epoch 25: Loss = 0.010930905161353421\n",
      "Epoch 26: Loss = 0.010936601350903399\n",
      "Epoch 27: Loss = 0.010932663104942359\n",
      "Epoch 28: Loss = 0.010930928674067671\n",
      "Epoch 29: Loss = 0.010930878060423638\n",
      "Epoch 30: Loss = 0.010933776200392833\n"
     ]
    },
    {
     "data": {
      "image/png": "[encoded data removed]",
      "text/plain": [
       "<Figure size 432x288 with 1 Axes>"
      ]
     },
     "metadata": {
      "needs_background": "light"
     },
     "output_type": "display_data"
    }
   ],
   "source": [
    "weights, biases, losses = train(\n",
    "    x_train=X_train,\n",
    "    y_train=y_train,\n",
    ")\n",
    "\n",
    "plt.plot(losses)\n",
    "plt.xlabel('Epoch')\n",
    "plt.ylabel('Loss')\n",
    "plt.savefig('loss.png')\n",
    "plt.show()"
   ]
  },
  {
   "cell_type": "code",
   "execution_count": 51,
   "id": "a045ebfc",
   "metadata": {},
   "outputs": [
    {
     "name": "stdout",
     "output_type": "stream",
     "text": [
      "Test loss: 0.011060220262912743\n"
     ]
    }
   ],
   "source": [
    "test_loss = test(\n",
    "    x_test=X_test,\n",
    "    y_test=y_test,\n",
    "    model_params=(weights, biases),\n",
    ")\n",
    "print('Test loss: {0}'.format(test_loss))"
   ]
  },
  {
   "cell_type": "code",
   "execution_count": 52,
   "id": "af4de37b",
   "metadata": {},
   "outputs": [
    {
     "name": "stdout",
     "output_type": "stream",
     "text": [
      "Epoch 1: Loss = 0.016823216768495568\n",
      "Epoch 2: Loss = 0.016546415213427805\n",
      "Epoch 3: Loss = 0.016514610656722127\n",
      "Epoch 4: Loss = 0.016593911509669514\n",
      "Epoch 5: Loss = 0.01651008325474157\n",
      "Epoch 6: Loss = 0.01651013020887422\n",
      "Epoch 7: Loss = 0.01651231199124807\n",
      "Epoch 8: Loss = 0.0165110560657337\n",
      "Epoch 9: Loss = 0.016523772637588273\n",
      "Epoch 10: Loss = 0.016525135987824933\n",
      "Epoch 11: Loss = 0.016510932986919215\n",
      "Epoch 12: Loss = 0.01651329319548043\n",
      "Epoch 13: Loss = 0.01652002187635552\n",
      "Epoch 14: Loss = 0.016509286688214057\n",
      "Epoch 15: Loss = 0.016518449523104668\n",
      "Epoch 16: Loss = 0.0165089723613275\n",
      "Epoch 17: Loss = 0.016523600974948205\n",
      "Epoch 18: Loss = 0.0165156741433108\n",
      "Epoch 19: Loss = 0.016515407634014382\n",
      "Epoch 20: Loss = 0.016510767633130214\n",
      "Epoch 21: Loss = 0.01651016257347618\n",
      "Epoch 22: Loss = 0.016510588808098917\n",
      "Epoch 23: Loss = 0.016517625441790033\n",
      "Epoch 24: Loss = 0.016521801422314453\n",
      "Epoch 25: Loss = 0.0165627119746613\n",
      "Epoch 26: Loss = 0.016509190124981372\n",
      "Epoch 27: Loss = 0.016509508275957565\n",
      "Epoch 28: Loss = 0.016509428460585514\n",
      "Epoch 29: Loss = 0.016509763171361033\n",
      "Epoch 30: Loss = 0.016511770314632957\n",
      "Test loss: 0.016732432718221953\n",
      "Epoch 1: Loss = 0.012183907610380296\n",
      "Epoch 2: Loss = 0.011090133701824743\n",
      "Epoch 3: Loss = 0.01044518235606288\n",
      "Epoch 4: Loss = 0.010059464257755512\n",
      "Epoch 5: Loss = 0.009832600343736302\n",
      "Epoch 6: Loss = 0.009703662871537072\n",
      "Epoch 7: Loss = 0.009619164234470476\n",
      "Epoch 8: Loss = 0.009580508715105707\n",
      "Epoch 9: Loss = 0.009546309591380038\n",
      "Epoch 10: Loss = 0.009533264529576342\n",
      "Epoch 11: Loss = 0.009518532756095606\n",
      "Epoch 12: Loss = 0.009514909626218508\n",
      "Epoch 13: Loss = 0.00950950776336205\n",
      "Epoch 14: Loss = 0.009515605021341574\n",
      "Epoch 15: Loss = 0.009507001517452877\n",
      "Epoch 16: Loss = 0.00950585129090038\n",
      "Epoch 17: Loss = 0.009505495265799893\n",
      "Epoch 18: Loss = 0.009506958634934658\n",
      "Epoch 19: Loss = 0.009504876742912474\n",
      "Epoch 20: Loss = 0.009512093857728039\n",
      "Epoch 21: Loss = 0.009504595660005036\n",
      "Epoch 22: Loss = 0.00950495340824751\n",
      "Epoch 23: Loss = 0.009504410079140806\n",
      "Epoch 24: Loss = 0.009507610794585761\n",
      "Epoch 25: Loss = 0.009505620323553685\n",
      "Epoch 26: Loss = 0.009505165642737788\n",
      "Epoch 27: Loss = 0.009504800912997944\n",
      "Epoch 28: Loss = 0.009505053804958401\n",
      "Epoch 29: Loss = 0.009508453787534194\n",
      "Epoch 30: Loss = 0.009505684560208607\n",
      "Test loss: 0.009614450209397265\n",
      "Epoch 1: Loss = 0.01766656495856556\n",
      "Epoch 2: Loss = 0.017222221649929717\n",
      "Epoch 3: Loss = 0.016882720410718494\n",
      "Epoch 4: Loss = 0.0166198324305435\n",
      "Epoch 5: Loss = 0.016416464761614062\n",
      "Epoch 6: Loss = 0.016258058619942093\n",
      "Epoch 7: Loss = 0.01613820828730244\n",
      "Epoch 8: Loss = 0.01604630162289862\n",
      "Epoch 9: Loss = 0.01597577333704893\n",
      "Epoch 10: Loss = 0.015921956934466807\n",
      "Epoch 11: Loss = 0.01587931126314815\n",
      "Epoch 12: Loss = 0.015852124228552412\n",
      "Epoch 13: Loss = 0.015822843107159514\n",
      "Epoch 14: Loss = 0.015803733987393532\n",
      "Epoch 15: Loss = 0.015789037021571917\n",
      "Epoch 16: Loss = 0.015777535475703233\n",
      "Epoch 17: Loss = 0.015768838711695477\n",
      "Epoch 18: Loss = 0.015762294068749724\n",
      "Epoch 19: Loss = 0.015756940793508537\n",
      "Epoch 20: Loss = 0.015753080782557577\n",
      "Epoch 21: Loss = 0.015749991748236273\n",
      "Epoch 22: Loss = 0.015751659456503354\n",
      "Epoch 23: Loss = 0.0157461926010541\n",
      "Epoch 24: Loss = 0.015750082188483897\n",
      "Epoch 25: Loss = 0.01574422161100379\n",
      "Epoch 26: Loss = 0.015744003425940123\n",
      "Epoch 27: Loss = 0.01574499147986922\n",
      "Epoch 28: Loss = 0.015741515430523687\n",
      "Epoch 29: Loss = 0.015741174940900264\n",
      "Epoch 30: Loss = 0.01574208732592943\n",
      "Test loss: 0.015942284492062968\n"
     ]
    },
    {
     "data": {
      "image/png": "[encoded data removed]",
      "text/plain": [
       "<Figure size 432x288 with 1 Axes>"
      ]
     },
     "metadata": {
      "needs_background": "light"
     },
     "output_type": "display_data"
    }
   ],
   "source": [
    "plt.clf()\n",
    "plt.xlabel('Epoch')\n",
    "plt.ylabel('Losses')\n",
    "batches = [16, 64, 128]\n",
    "for batch_size in batches:\n",
    "    weights, biases, losses = train(\n",
    "        x_train=X_train,\n",
    "        y_train=y_train,\n",
    "        batch_size=batch_size,\n",
    "    )\n",
    "\n",
    "    test_loss = test(\n",
    "        x_test=X_test,\n",
    "        y_test=y_test,\n",
    "        model_params=(weights, biases),\n",
    "    )\n",
    "    print('Test loss: {0}'.format(test_loss))\n",
    "\n",
    "    plt.plot(losses)\n",
    "    plt.legend(batches)\n",
    "plt.savefig('loss_batches.png')\n",
    "plt.show()"
   ]
  },
  {
   "cell_type": "markdown",
   "id": "77b1ae84",
   "metadata": {},
   "source": [
    "# Adjusting the batch sizes changes how quickly the model converges. In a small\n",
    "# batch size, the algorithm may converge quickly. In a large batch size, the\n",
    "# algorithm may take a long time to converge."
   ]
  }
 ],
 "metadata": {
  "kernelspec": {
   "display_name": "Python 3 (ipykernel)",
   "language": "python",
   "name": "python3"
  },
  "language_info": {
   "codemirror_mode": {
    "name": "ipython",
    "version": 3
   },
   "file_extension": ".py",
   "mimetype": "text/x-python",
   "name": "python",
   "nbconvert_exporter": "python",
   "pygments_lexer": "ipython3",
   "version": "3.9.10"
  }
 },
 "nbformat": 4,
 "nbformat_minor": 5
}

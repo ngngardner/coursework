{
 "cells": [
  {
   "cell_type": "code",
   "execution_count": 79,
   "metadata": {},
   "outputs": [],
   "source": [
    "from keras.models import Sequential\n",
    "import keras.layers as layers"
   ]
  },
  {
   "cell_type": "code",
   "execution_count": 80,
   "metadata": {},
   "outputs": [],
   "source": [
    "model = Sequential()\n",
    "# input shape  = (256, 256, 3)\n",
    "# first convolutional layer with 16 filters of size 6x6\n",
    "model.add(layers.Conv2D(16, (6, 6), activation='relu', input_shape=(256, 256, 3)))\n",
    "model.add(layers.MaxPooling2D((2, 2)))\n",
    "# second convolutional layer with 16 filters of size 6x6\n",
    "model.add(layers.Conv2D(16, (6, 6), activation='relu'))\n",
    "model.add(layers.MaxPooling2D((2, 2)))\n",
    "# fully connected layer with 96 neurons\n",
    "model.add(layers.Flatten())\n",
    "model.add(layers.Dense(96, activation='relu'))\n",
    "# softmax classifier with 3 classes\n",
    "model.add(layers.Dense(3, activation='softmax'))\n"
   ]
  },
  {
   "cell_type": "code",
   "execution_count": 81,
   "metadata": {},
   "outputs": [
    {
     "name": "stdout",
     "output_type": "stream",
     "text": [
      "Model: \"sequential_32\"\n",
      "_________________________________________________________________\n",
      " Layer (type)                Output Shape              Param #   \n",
      "=================================================================\n",
      " conv2d_84 (Conv2D)          (None, 251, 251, 16)      1744      \n",
      "                                                                 \n",
      " max_pooling2d_57 (MaxPoolin  (None, 125, 125, 16)     0         \n",
      " g2D)                                                            \n",
      "                                                                 \n",
      " conv2d_85 (Conv2D)          (None, 120, 120, 16)      9232      \n",
      "                                                                 \n",
      " max_pooling2d_58 (MaxPoolin  (None, 60, 60, 16)       0         \n",
      " g2D)                                                            \n",
      "                                                                 \n",
      " flatten_30 (Flatten)        (None, 57600)             0         \n",
      "                                                                 \n",
      " dense_60 (Dense)            (None, 96)                5529696   \n",
      "                                                                 \n",
      " dense_61 (Dense)            (None, 3)                 291       \n",
      "                                                                 \n",
      "=================================================================\n",
      "Total params: 5,540,963\n",
      "Trainable params: 5,540,963\n",
      "Non-trainable params: 0\n",
      "_________________________________________________________________\n"
     ]
    }
   ],
   "source": [
    "model.summary()"
   ]
  },
  {
   "cell_type": "code",
   "execution_count": 82,
   "metadata": {},
   "outputs": [],
   "source": [
    "model2 = Sequential()\n",
    "# input shape  = (256, 256, 3)\n",
    "# first convolutional layer with 16 filters of size 6x6\n",
    "model2.add(layers.Conv2D(16, (6, 6), activation='relu', input_shape=(256, 256, 3)))\n",
    "model2.add(layers.MaxPooling2D((2, 2)))\n",
    "\n",
    "model2.add(layers.Conv2D(16, (2, 2), activation='relu'))\n",
    "\n",
    "\n",
    "# second convolutional layer with 16 filters of size 6x6\n",
    "model2.add(layers.Conv2D(16, (6, 6), activation='relu'))\n",
    "model2.add(layers.MaxPooling2D((2, 2)))\n",
    "# fully connected layer with 96 neurons\n",
    "model2.add(layers.Flatten())\n",
    "model2.add(layers.Dense(96, activation='relu'))\n",
    "# softmax classifier with 3 classes\n",
    "model2.add(layers.Dense(3, activation='softmax'))\n"
   ]
  },
  {
   "cell_type": "code",
   "execution_count": 83,
   "metadata": {},
   "outputs": [
    {
     "name": "stdout",
     "output_type": "stream",
     "text": [
      "Model: \"sequential_33\"\n",
      "_________________________________________________________________\n",
      " Layer (type)                Output Shape              Param #   \n",
      "=================================================================\n",
      " conv2d_86 (Conv2D)          (None, 251, 251, 16)      1744      \n",
      "                                                                 \n",
      " max_pooling2d_59 (MaxPoolin  (None, 125, 125, 16)     0         \n",
      " g2D)                                                            \n",
      "                                                                 \n",
      " conv2d_87 (Conv2D)          (None, 124, 124, 16)      1040      \n",
      "                                                                 \n",
      " conv2d_88 (Conv2D)          (None, 119, 119, 16)      9232      \n",
      "                                                                 \n",
      " max_pooling2d_60 (MaxPoolin  (None, 59, 59, 16)       0         \n",
      " g2D)                                                            \n",
      "                                                                 \n",
      " flatten_31 (Flatten)        (None, 55696)             0         \n",
      "                                                                 \n",
      " dense_62 (Dense)            (None, 96)                5346912   \n",
      "                                                                 \n",
      " dense_63 (Dense)            (None, 3)                 291       \n",
      "                                                                 \n",
      "=================================================================\n",
      "Total params: 5,359,219\n",
      "Trainable params: 5,359,219\n",
      "Non-trainable params: 0\n",
      "_________________________________________________________________\n"
     ]
    }
   ],
   "source": [
    "\n",
    "\n",
    "model2.summary()"
   ]
  }
 ],
 "metadata": {
  "interpreter": {
   "hash": "a7eacfe96f81178c36b2c9069004e3dcefce3172429bbcff3a8c1a796bdcde27"
  },
  "kernelspec": {
   "display_name": "Python 3.10.4 ('cs7357')",
   "language": "python",
   "name": "python3"
  },
  "language_info": {
   "codemirror_mode": {
    "name": "ipython",
    "version": 3
   },
   "file_extension": ".py",
   "mimetype": "text/x-python",
   "name": "python",
   "nbconvert_exporter": "python",
   "pygments_lexer": "ipython3",
   "version": "3.10.4"
  },
  "orig_nbformat": 4
 },
 "nbformat": 4,
 "nbformat_minor": 2
}
